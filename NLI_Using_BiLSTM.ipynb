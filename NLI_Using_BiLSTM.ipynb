{
  "nbformat": 4,
  "nbformat_minor": 0,
  "metadata": {
    "colab": {
      "name": "NLI_Using_BiLSTM.ipynb",
      "provenance": []
    },
    "kernelspec": {
      "name": "python3",
      "display_name": "Python 3"
    },
    "language_info": {
      "name": "python"
    },
    "accelerator": "GPU"
  },
  "cells": [
    {
      "cell_type": "code",
      "metadata": {
        "id": "-djmyPQg01C9"
      },
      "source": [
        "import torch\n",
        "import torch.nn as nn\n",
        "import torch.nn.functional as F\n",
        "import torch.optim as optim\n",
        "\n",
        "from torchtext.legacy import data\n",
        "from torchtext.legacy import datasets\n",
        "\n",
        "import random\n",
        "import numpy as np\n",
        "\n",
        "import time"
      ],
      "execution_count": 1,
      "outputs": []
    },
    {
      "cell_type": "code",
      "metadata": {
        "id": "z1edc3_A09D2"
      },
      "source": [
        "SEED = 1234\n",
        "\n",
        "random.seed(SEED)\n",
        "np.random.seed(SEED)\n",
        "torch.manual_seed(SEED)\n",
        "torch.backends.cudnn.deterministic = True"
      ],
      "execution_count": 2,
      "outputs": []
    },
    {
      "cell_type": "code",
      "metadata": {
        "colab": {
          "base_uri": "https://localhost:8080/"
        },
        "id": "rBvXj-g41Aua",
        "outputId": "50cd8be7-d4fa-4ad4-c09f-8262a0e04b7e"
      },
      "source": [
        "import nltk\n",
        "nltk.download('punkt')\n",
        "from nltk.tokenize import word_tokenize\n",
        "\n",
        "tokenizer = nltk.RegexpTokenizer(r\"\\w+\").tokenize\n",
        "\n",
        "TEXT = data.Field(tokenize=tokenizer, lower = True)\n",
        "LABEL = data.LabelField()"
      ],
      "execution_count": 3,
      "outputs": [
        {
          "output_type": "stream",
          "text": [
            "[nltk_data] Downloading package punkt to /root/nltk_data...\n",
            "[nltk_data]   Unzipping tokenizers/punkt.zip.\n"
          ],
          "name": "stdout"
        }
      ]
    },
    {
      "cell_type": "code",
      "metadata": {
        "id": "W6umlo1p1Cy5",
        "colab": {
          "base_uri": "https://localhost:8080/"
        },
        "outputId": "52c8ca41-55ea-4add-c424-f56727b5bf2a"
      },
      "source": [
        "train_data, valid_data, test_data = datasets.SNLI.splits(TEXT, LABEL)"
      ],
      "execution_count": 4,
      "outputs": [
        {
          "output_type": "stream",
          "text": [
            "downloading snli_1.0.zip\n"
          ],
          "name": "stdout"
        },
        {
          "output_type": "stream",
          "text": [
            "snli_1.0.zip: 100%|██████████| 94.6M/94.6M [00:09<00:00, 9.68MB/s]\n"
          ],
          "name": "stderr"
        },
        {
          "output_type": "stream",
          "text": [
            "extracting\n"
          ],
          "name": "stdout"
        }
      ]
    },
    {
      "cell_type": "code",
      "metadata": {
        "colab": {
          "base_uri": "https://localhost:8080/"
        },
        "id": "7JEHMFlr5_bP",
        "outputId": "7e0fe53d-6b5f-4f33-c855-0c9a70afa66c"
      },
      "source": [
        "print(type(train_data))\n",
        "print(type(valid_data))\n",
        "print(type(test_data))"
      ],
      "execution_count": 5,
      "outputs": [
        {
          "output_type": "stream",
          "text": [
            "<class 'torchtext.legacy.datasets.nli.SNLI'>\n",
            "<class 'torchtext.legacy.datasets.nli.SNLI'>\n",
            "<class 'torchtext.legacy.datasets.nli.SNLI'>\n"
          ],
          "name": "stdout"
        }
      ]
    },
    {
      "cell_type": "code",
      "metadata": {
        "id": "2bPlGvQr1ErF",
        "colab": {
          "base_uri": "https://localhost:8080/"
        },
        "outputId": "5c13ce82-554c-4beb-ad01-fb5bb9cf452b"
      },
      "source": [
        "\n",
        "print(f\"Number of training examples: {len(train_data)}\")\n",
        "print(f\"Number of validation examples: {len(valid_data)}\")\n",
        "print(f\"Number of testing examples: {len(test_data)}\")"
      ],
      "execution_count": 6,
      "outputs": [
        {
          "output_type": "stream",
          "text": [
            "Number of training examples: 549367\n",
            "Number of validation examples: 9842\n",
            "Number of testing examples: 9824\n"
          ],
          "name": "stdout"
        }
      ]
    },
    {
      "cell_type": "code",
      "metadata": {
        "id": "NoJ_EyIG1G1v",
        "colab": {
          "base_uri": "https://localhost:8080/"
        },
        "outputId": "0daa17d2-86d3-4d5c-e6c3-529422dcb57d"
      },
      "source": [
        "print(vars(train_data.examples[0]))"
      ],
      "execution_count": 7,
      "outputs": [
        {
          "output_type": "stream",
          "text": [
            "{'premise': ['a', 'person', 'on', 'a', 'horse', 'jumps', 'over', 'a', 'broken', 'down', 'airplane'], 'hypothesis': ['a', 'person', 'is', 'training', 'his', 'horse', 'for', 'a', 'competition'], 'label': 'neutral'}\n"
          ],
          "name": "stdout"
        }
      ]
    },
    {
      "cell_type": "code",
      "metadata": {
        "id": "yhUlopHJ1Jqr",
        "colab": {
          "base_uri": "https://localhost:8080/"
        },
        "outputId": "03964f00-3440-4bf8-863d-6578abf67ecb"
      },
      "source": [
        "MIN_FREQ = 2\n",
        "\n",
        "TEXT.build_vocab(train_data, \n",
        "                 min_freq = MIN_FREQ,\n",
        "                 vectors = \"glove.6B.300d\",\n",
        "                 unk_init = torch.Tensor.normal_)\n",
        "\n",
        "LABEL.build_vocab(train_data)"
      ],
      "execution_count": 8,
      "outputs": [
        {
          "output_type": "stream",
          "text": [
            ".vector_cache/glove.6B.zip: 862MB [02:42, 5.30MB/s]                           \n",
            "100%|█████████▉| 399903/400000 [00:54<00:00, 7151.54it/s]"
          ],
          "name": "stderr"
        }
      ]
    },
    {
      "cell_type": "code",
      "metadata": {
        "id": "xVXUvAmX1Kgh",
        "colab": {
          "base_uri": "https://localhost:8080/"
        },
        "outputId": "2873b2bd-d438-48d2-b3b4-dca7cbf6b780"
      },
      "source": [
        "print(f\"Unique tokens in TEXT vocabulary: {len(TEXT.vocab)}\")"
      ],
      "execution_count": 9,
      "outputs": [
        {
          "output_type": "stream",
          "text": [
            "Unique tokens in TEXT vocabulary: 23352\n"
          ],
          "name": "stdout"
        }
      ]
    },
    {
      "cell_type": "code",
      "metadata": {
        "id": "j2BBMoat1MPG",
        "colab": {
          "base_uri": "https://localhost:8080/"
        },
        "outputId": "4fb39ce3-d707-432a-d7d1-09da2f19a82d"
      },
      "source": [
        "print(TEXT.vocab.freqs.most_common(20))"
      ],
      "execution_count": 10,
      "outputs": [
        {
          "output_type": "stream",
          "text": [
            "[('a', 1439104), ('the', 534701), ('in', 407300), ('is', 373355), ('man', 266237), ('on', 235910), ('and', 206376), ('are', 199024), ('of', 192432), ('with', 169236), ('woman', 137630), ('two', 122259), ('people', 121159), ('to', 113972), ('at', 98662), ('wearing', 81024), ('an', 80212), ('his', 72467), ('shirt', 62744), ('young', 61515)]\n"
          ],
          "name": "stdout"
        }
      ]
    },
    {
      "cell_type": "code",
      "metadata": {
        "id": "PcFUgWHN1OA_",
        "colab": {
          "base_uri": "https://localhost:8080/"
        },
        "outputId": "c218fd4f-8b1d-444b-8c76-52ef20c5c4e7"
      },
      "source": [
        "print(TEXT.vocab.itos[:10])"
      ],
      "execution_count": 11,
      "outputs": [
        {
          "output_type": "stream",
          "text": [
            "['<unk>', '<pad>', 'a', 'the', 'in', 'is', 'man', 'on', 'and', 'are']\n"
          ],
          "name": "stdout"
        }
      ]
    },
    {
      "cell_type": "code",
      "metadata": {
        "id": "R1UrSIPh1P92",
        "colab": {
          "base_uri": "https://localhost:8080/"
        },
        "outputId": "fac97f9f-c65f-4b60-cdc7-1866e7c0bc3d"
      },
      "source": [
        "print(LABEL.vocab.itos)"
      ],
      "execution_count": 12,
      "outputs": [
        {
          "output_type": "stream",
          "text": [
            "['entailment', 'contradiction', 'neutral']\n"
          ],
          "name": "stdout"
        }
      ]
    },
    {
      "cell_type": "code",
      "metadata": {
        "id": "SDmOKkzD1TKg"
      },
      "source": [
        "BATCH_SIZE = 512\n",
        "\n",
        "device = torch.device('cuda' if torch.cuda.is_available() else 'cpu')\n",
        "\n",
        "train_iterator, valid_iterator, test_iterator = data.BucketIterator.splits(\n",
        "    (train_data, valid_data, test_data), \n",
        "    batch_size = BATCH_SIZE,\n",
        "    device = device)"
      ],
      "execution_count": 13,
      "outputs": []
    },
    {
      "cell_type": "code",
      "metadata": {
        "id": "L9SoS00s1T2N"
      },
      "source": [
        "class NLIBiLSTM(nn.Module):\n",
        "    def __init__(self, \n",
        "                 input_dim, \n",
        "                 embedding_dim,\n",
        "                 hidden_dim,\n",
        "                 n_lstm_layers,\n",
        "                 n_fc_layers,\n",
        "                 output_dim, \n",
        "                 dropout, \n",
        "                 pad_idx):\n",
        "        \n",
        "        super().__init__()\n",
        "                                \n",
        "        self.embedding = nn.Embedding(input_dim, embedding_dim, padding_idx = pad_idx)\n",
        "        \n",
        "        self.translation = nn.Linear(embedding_dim, hidden_dim)\n",
        "        \n",
        "        self.lstm = nn.LSTM(hidden_dim, \n",
        "                            hidden_dim, \n",
        "                            num_layers = n_lstm_layers, \n",
        "                            bidirectional = True, \n",
        "                            dropout=dropout if n_lstm_layers > 1 else 0)\n",
        "        \n",
        "        fc_dim = hidden_dim * 2\n",
        "        \n",
        "        fcs = [nn.Linear(fc_dim * 2, fc_dim * 2) for _ in range(n_fc_layers)]\n",
        "        \n",
        "        self.fcs = nn.ModuleList(fcs)\n",
        "        \n",
        "        self.fc_out = nn.Linear(fc_dim * 2, output_dim)\n",
        "        \n",
        "        self.dropout = nn.Dropout(dropout)\n",
        "        \n",
        "    def forward(self, prem, hypo):\n",
        "\n",
        "        prem_seq_len, batch_size = prem.shape\n",
        "        hypo_seq_len, _ = hypo.shape\n",
        "        \n",
        "        #prem = [prem sent len, batch size]\n",
        "        #hypo = [hypo sent len, batch size]\n",
        "        \n",
        "        embedded_prem = self.embedding(prem)\n",
        "        embedded_hypo = self.embedding(hypo)\n",
        "        \n",
        "        #embedded_prem = [prem sent len, batch size, embedding dim]\n",
        "        #embedded_hypo = [hypo sent len, batch size, embedding dim]\n",
        "        \n",
        "        translated_prem = F.relu(self.translation(embedded_prem))\n",
        "        translated_hypo = F.relu(self.translation(embedded_hypo))\n",
        "        \n",
        "        #translated_prem = [prem sent len, batch size, hidden dim]\n",
        "        #translated_hypo = [hypo sent len, batch size, hidden dim]\n",
        "        \n",
        "        outputs_prem, (hidden_prem, cell_prem) = self.lstm(translated_prem)\n",
        "        outputs_hypo, (hidden_hypo, cell_hypo) = self.lstm(translated_hypo)\n",
        "\n",
        "        #outputs_x = [sent len, batch size, n directions * hid dim]\n",
        "        #hidden_x = [n layers * n directions, batch size, hid dim]\n",
        "        #cell_x = [n layers * n directions, batch size, hid dim]\n",
        "        \n",
        "        hidden_prem = torch.cat((hidden_prem[-1], hidden_prem[-2]), dim=-1)\n",
        "        hidden_hypo = torch.cat((hidden_hypo[-1], hidden_hypo[-2]), dim=-1)\n",
        "        \n",
        "        #hidden_x = [batch size, fc dim]\n",
        "\n",
        "        hidden = torch.cat((hidden_prem, hidden_hypo), dim=1)\n",
        "\n",
        "        #hidden = [batch size, fc dim * 2]\n",
        "            \n",
        "        for fc in self.fcs:\n",
        "            hidden = fc(hidden)\n",
        "            hidden = F.relu(hidden)\n",
        "            hidden = self.dropout(hidden)\n",
        "        \n",
        "        prediction = self.fc_out(hidden)\n",
        "        \n",
        "        #prediction = [batch size, output dim]\n",
        "        \n",
        "        return prediction"
      ],
      "execution_count": 14,
      "outputs": []
    },
    {
      "cell_type": "code",
      "metadata": {
        "id": "Eu49zir51Zkd"
      },
      "source": [
        "INPUT_DIM = len(TEXT.vocab)\n",
        "EMBEDDING_DIM = 300\n",
        "HIDDEN_DIM = 300\n",
        "N_LSTM_LAYERS = 2\n",
        "N_FC_LAYERS = 3\n",
        "OUTPUT_DIM = len(LABEL.vocab)\n",
        "DROPOUT = 0.25\n",
        "PAD_IDX = TEXT.vocab.stoi[TEXT.pad_token]\n",
        "\n",
        "model = NLIBiLSTM(INPUT_DIM,\n",
        "                  EMBEDDING_DIM,\n",
        "                  HIDDEN_DIM,\n",
        "                  N_LSTM_LAYERS,\n",
        "                  N_FC_LAYERS,\n",
        "                  OUTPUT_DIM,\n",
        "                  DROPOUT,\n",
        "                  PAD_IDX)"
      ],
      "execution_count": 15,
      "outputs": []
    },
    {
      "cell_type": "code",
      "metadata": {
        "id": "hipU9A8P1byz",
        "colab": {
          "base_uri": "https://localhost:8080/"
        },
        "outputId": "ced46a5e-307c-47d0-eb0d-a3fd397403ca"
      },
      "source": [
        "def count_parameters(model):\n",
        "    return sum(p.numel() for p in model.parameters() if p.requires_grad)\n",
        "\n",
        "print(f'The model has {count_parameters(model):,} trainable parameters')"
      ],
      "execution_count": 16,
      "outputs": [
        {
          "output_type": "stream",
          "text": [
            "The model has 15,032,703 trainable parameters\n"
          ],
          "name": "stdout"
        }
      ]
    },
    {
      "cell_type": "code",
      "metadata": {
        "id": "08ErZBCz1dob",
        "colab": {
          "base_uri": "https://localhost:8080/"
        },
        "outputId": "161f2153-9514-460f-a4c1-cc4ca5bdb4e9"
      },
      "source": [
        "pretrained_embeddings = TEXT.vocab.vectors\n",
        "\n",
        "print(pretrained_embeddings.shape)"
      ],
      "execution_count": 17,
      "outputs": [
        {
          "output_type": "stream",
          "text": [
            "torch.Size([23352, 300])\n"
          ],
          "name": "stdout"
        }
      ]
    },
    {
      "cell_type": "code",
      "metadata": {
        "id": "rtjYCBIK1hFU",
        "colab": {
          "base_uri": "https://localhost:8080/"
        },
        "outputId": "ad90b4f4-100f-4291-af14-46c0eab17b8d"
      },
      "source": [
        "model.embedding.weight.data.copy_(pretrained_embeddings)"
      ],
      "execution_count": 18,
      "outputs": [
        {
          "output_type": "execute_result",
          "data": {
            "text/plain": [
              "tensor([[-0.1117, -0.4966,  0.1631,  ..., -1.4447,  0.8402, -0.8668],\n",
              "        [ 0.1032, -1.6268,  0.5729,  ...,  0.3180, -0.1626, -0.0417],\n",
              "        [-0.2971,  0.0940, -0.0967,  ...,  0.0597, -0.2285,  0.2960],\n",
              "        ...,\n",
              "        [-0.2149,  0.0846, -0.2949,  ...,  0.2379,  0.4804, -0.3348],\n",
              "        [-0.0626, -0.3148, -0.9665,  ...,  1.3171, -0.8476, -0.4057],\n",
              "        [ 0.3580, -0.0304,  0.3355,  ...,  0.0703, -0.5158,  0.1819]])"
            ]
          },
          "metadata": {
            "tags": []
          },
          "execution_count": 18
        }
      ]
    },
    {
      "cell_type": "code",
      "metadata": {
        "id": "76RaPSWw1jAh",
        "colab": {
          "base_uri": "https://localhost:8080/"
        },
        "outputId": "5170fdb6-1af6-4ff7-c577-0be500d513e5"
      },
      "source": [
        "model.embedding.weight.data[PAD_IDX] = torch.zeros(EMBEDDING_DIM)\n",
        "\n",
        "print(model.embedding.weight.data)"
      ],
      "execution_count": 19,
      "outputs": [
        {
          "output_type": "stream",
          "text": [
            "tensor([[-0.1117, -0.4966,  0.1631,  ..., -1.4447,  0.8402, -0.8668],\n",
            "        [ 0.0000,  0.0000,  0.0000,  ...,  0.0000,  0.0000,  0.0000],\n",
            "        [-0.2971,  0.0940, -0.0967,  ...,  0.0597, -0.2285,  0.2960],\n",
            "        ...,\n",
            "        [-0.2149,  0.0846, -0.2949,  ...,  0.2379,  0.4804, -0.3348],\n",
            "        [-0.0626, -0.3148, -0.9665,  ...,  1.3171, -0.8476, -0.4057],\n",
            "        [ 0.3580, -0.0304,  0.3355,  ...,  0.0703, -0.5158,  0.1819]])\n"
          ],
          "name": "stdout"
        }
      ]
    },
    {
      "cell_type": "code",
      "metadata": {
        "id": "hX-fIwr91kpP"
      },
      "source": [
        "\n",
        "model.embedding.weight.requires_grad = False"
      ],
      "execution_count": 20,
      "outputs": []
    },
    {
      "cell_type": "code",
      "metadata": {
        "id": "-j24iBNq1lfZ",
        "colab": {
          "base_uri": "https://localhost:8080/"
        },
        "outputId": "c7d64f6a-32f5-4164-a233-b341d442a12c"
      },
      "source": [
        "\n",
        "def count_parameters(model):\n",
        "    return sum(p.numel() for p in model.parameters() if p.requires_grad)\n",
        "\n",
        "print(f'The model has {count_parameters(model):,} trainable parameters')"
      ],
      "execution_count": 21,
      "outputs": [
        {
          "output_type": "stream",
          "text": [
            "The model has 8,027,103 trainable parameters\n"
          ],
          "name": "stdout"
        }
      ]
    },
    {
      "cell_type": "code",
      "metadata": {
        "id": "Jf8toHfQ1owO"
      },
      "source": [
        "optimizer = optim.Adam(model.parameters())"
      ],
      "execution_count": 22,
      "outputs": []
    },
    {
      "cell_type": "code",
      "metadata": {
        "id": "Vl2uRCZ91qYM"
      },
      "source": [
        "criterion = nn.CrossEntropyLoss()"
      ],
      "execution_count": 23,
      "outputs": []
    },
    {
      "cell_type": "code",
      "metadata": {
        "id": "7tDKnEMAA_yP"
      },
      "source": [
        "model = model.to(device)\n",
        "criterion = criterion.to(device)"
      ],
      "execution_count": 24,
      "outputs": []
    },
    {
      "cell_type": "code",
      "metadata": {
        "id": "rMqT5caK1rP7"
      },
      "source": [
        "def categorical_accuracy(preds, y):\n",
        "    \"\"\"\n",
        "    Returns accuracy per batch, i.e. if you get 8/10 right, this returns 0.8, NOT 8\n",
        "    \"\"\"\n",
        "    #preds = preds.to(device)\n",
        "    #y = y.to(device)\n",
        "    max_preds = preds.argmax(dim = 1, keepdim = True) # get the index of the max probability\n",
        "    #max_preds = max_preds.to(device)\n",
        "    correct = (max_preds.squeeze(1)==y).float()\n",
        "    #correct = correct.to(device)\n",
        "    return correct.sum() / len(y)"
      ],
      "execution_count": 25,
      "outputs": []
    },
    {
      "cell_type": "code",
      "metadata": {
        "id": "LYU68IpI1ujR"
      },
      "source": [
        "def train(model, iterator, optimizer, criterion):\n",
        "    \n",
        "    epoch_loss = 0\n",
        "    epoch_acc = 0\n",
        "    \n",
        "    model.train()\n",
        "    \n",
        "    for batch in iterator:\n",
        "        \n",
        "        prem = batch.premise\n",
        "        hypo = batch.hypothesis\n",
        "        labels = batch.label\n",
        "        \n",
        "        optimizer.zero_grad()\n",
        "        \n",
        "        #prem = [prem sent len, batch size]\n",
        "        #hypo = [hypo sent len, batch size]\n",
        "        \n",
        "        predictions = model(prem, hypo)\n",
        "        \n",
        "        #predictions = [batch size, output dim]\n",
        "        #labels = [batch size]\n",
        "        \n",
        "        loss = criterion(predictions, labels)\n",
        "                \n",
        "        acc = categorical_accuracy(predictions, labels)\n",
        "        \n",
        "        loss.backward()\n",
        "        \n",
        "        optimizer.step()\n",
        "        \n",
        "        epoch_loss += loss.item()\n",
        "        epoch_acc += acc.item()\n",
        "        \n",
        "    return epoch_loss / len(iterator), epoch_acc / len(iterator)"
      ],
      "execution_count": 26,
      "outputs": []
    },
    {
      "cell_type": "code",
      "metadata": {
        "id": "qLfXgDJT1xoC"
      },
      "source": [
        "def evaluate(model, iterator, criterion):\n",
        "    \n",
        "    epoch_loss = 0\n",
        "    epoch_acc = 0\n",
        "    \n",
        "    model.eval()\n",
        "    \n",
        "    with torch.no_grad():\n",
        "    \n",
        "        for batch in iterator:\n",
        "\n",
        "            prem = batch.premise\n",
        "            hypo = batch.hypothesis\n",
        "            labels = batch.label\n",
        "                        \n",
        "            predictions = model(prem, hypo)\n",
        "            \n",
        "            loss = criterion(predictions, labels)\n",
        "                \n",
        "            acc = categorical_accuracy(predictions, labels)\n",
        "            \n",
        "            epoch_loss += loss.item()\n",
        "            epoch_acc += acc.item()\n",
        "        \n",
        "    return epoch_loss / len(iterator), epoch_acc / len(iterator)"
      ],
      "execution_count": 27,
      "outputs": []
    },
    {
      "cell_type": "code",
      "metadata": {
        "id": "TA_Pvk341z7s"
      },
      "source": [
        "def epoch_time(start_time, end_time):\n",
        "    elapsed_time = end_time - start_time\n",
        "    elapsed_mins = int(elapsed_time / 60)\n",
        "    elapsed_secs = int(elapsed_time - (elapsed_mins * 60))\n",
        "    return elapsed_mins, elapsed_secs"
      ],
      "execution_count": 28,
      "outputs": []
    },
    {
      "cell_type": "code",
      "metadata": {
        "id": "nEcq-Hsn11wc",
        "colab": {
          "base_uri": "https://localhost:8080/"
        },
        "outputId": "18791a18-3cb7-4170-fcca-9bfc6b84953a"
      },
      "source": [
        "N_EPOCHS = 5\n",
        "\n",
        "best_valid_loss = float('inf')\n",
        "\n",
        "for epoch in range(N_EPOCHS):\n",
        "\n",
        "    start_time = time.time()\n",
        "    \n",
        "    train_loss, train_acc = train(model, train_iterator, optimizer, criterion)\n",
        "    valid_loss, valid_acc = evaluate(model, valid_iterator, criterion)\n",
        "    \n",
        "    end_time = time.time()\n",
        "\n",
        "    epoch_mins, epoch_secs = epoch_time(start_time, end_time)\n",
        "    \n",
        "    if valid_loss < best_valid_loss:\n",
        "        best_valid_loss = valid_loss\n",
        "        torch.save(model.state_dict(), 'tut1-model.pt')\n",
        "    \n",
        "    print(f'Epoch: {epoch+1:02} | Epoch Time: {epoch_mins}m {epoch_secs}s')\n",
        "    print(f'\\tTrain Loss: {train_loss:.3f} | Train Acc: {train_acc*100:.2f}%')\n",
        "    print(f'\\t Val. Loss: {valid_loss:.3f} |  Val. Acc: {valid_acc*100:.2f}%')"
      ],
      "execution_count": 37,
      "outputs": [
        {
          "output_type": "stream",
          "text": [
            "Epoch: 01 | Epoch Time: 9m 24s\n",
            "\tTrain Loss: 0.469 | Train Acc: 81.61%\n",
            "\t Val. Loss: 0.521 |  Val. Acc: 79.61%\n",
            "Epoch: 02 | Epoch Time: 9m 25s\n",
            "\tTrain Loss: 0.442 | Train Acc: 82.77%\n",
            "\t Val. Loss: 0.512 |  Val. Acc: 79.64%\n",
            "Epoch: 03 | Epoch Time: 9m 24s\n",
            "\tTrain Loss: 0.415 | Train Acc: 83.96%\n",
            "\t Val. Loss: 0.514 |  Val. Acc: 80.12%\n",
            "Epoch: 04 | Epoch Time: 9m 25s\n",
            "\tTrain Loss: 0.389 | Train Acc: 85.05%\n",
            "\t Val. Loss: 0.527 |  Val. Acc: 80.18%\n",
            "Epoch: 05 | Epoch Time: 9m 25s\n",
            "\tTrain Loss: 0.362 | Train Acc: 86.19%\n",
            "\t Val. Loss: 0.545 |  Val. Acc: 79.92%\n"
          ],
          "name": "stdout"
        }
      ]
    },
    {
      "cell_type": "code",
      "metadata": {
        "id": "iklFTKK814Hw",
        "colab": {
          "base_uri": "https://localhost:8080/"
        },
        "outputId": "afbe2f36-7990-41d6-98e1-155f47c00f2b"
      },
      "source": [
        "model.load_state_dict(torch.load('tut1-model.pt'))\n",
        "\n",
        "test_loss, test_acc = evaluate(model, test_iterator, criterion)\n",
        "\n",
        "print(f'Test Loss: {test_loss:.3f} |  Test Acc: {test_acc*100:.2f}%')"
      ],
      "execution_count": 38,
      "outputs": [
        {
          "output_type": "stream",
          "text": [
            "Test Loss: 0.518 |  Test Acc: 79.65%\n"
          ],
          "name": "stdout"
        }
      ]
    },
    {
      "cell_type": "code",
      "metadata": {
        "id": "GbeI3WzADa38"
      },
      "source": [
        "def predict_inference(premise, hypothesis, text_field, label_field, model, device):\n",
        "    \n",
        "    model.eval()\n",
        "    \n",
        "    if isinstance(premise, str):\n",
        "        premise = text_field.tokenize(premise)\n",
        "    \n",
        "    if isinstance(hypothesis, str):\n",
        "        hypothesis = text_field.tokenize(hypothesis)\n",
        "    \n",
        "    if text_field.lower:\n",
        "        premise = [t.lower() for t in premise]\n",
        "        hypothesis = [t.lower() for t in hypothesis]\n",
        "        \n",
        "    premise = [text_field.vocab.stoi[t] for t in premise]\n",
        "    hypothesis = [text_field.vocab.stoi[t] for t in hypothesis]\n",
        "    \n",
        "    premise = torch.LongTensor(premise).unsqueeze(1).to(device)\n",
        "    hypothesis = torch.LongTensor(hypothesis).unsqueeze(1).to(device)\n",
        "    \n",
        "    prediction = model(premise, hypothesis)\n",
        "    \n",
        "    prediction = prediction.argmax(dim=-1).item()\n",
        "    \n",
        "    return label_field.vocab.itos[prediction]"
      ],
      "execution_count": 39,
      "outputs": []
    },
    {
      "cell_type": "code",
      "metadata": {
        "colab": {
          "base_uri": "https://localhost:8080/",
          "height": 35
        },
        "id": "uep34OlbDblS",
        "outputId": "333dc02e-2ade-4aa9-eb8d-7715e13103cf"
      },
      "source": [
        "premise = 'a man sitting on a green bench.'\n",
        "hypothesis = 'a woman sitting on a green bench.'\n",
        "\n",
        "predict_inference(premise, hypothesis, TEXT, LABEL, model, device)"
      ],
      "execution_count": 40,
      "outputs": [
        {
          "output_type": "execute_result",
          "data": {
            "application/vnd.google.colaboratory.intrinsic+json": {
              "type": "string"
            },
            "text/plain": [
              "'contradiction'"
            ]
          },
          "metadata": {
            "tags": []
          },
          "execution_count": 40
        }
      ]
    },
    {
      "cell_type": "code",
      "metadata": {
        "colab": {
          "base_uri": "https://localhost:8080/",
          "height": 35
        },
        "id": "xugDZQNZDd6S",
        "outputId": "56b303a2-7004-477b-d27c-d9111fb25e73"
      },
      "source": [
        "premise = 'a man sitting on a green bench.'\n",
        "hypothesis = 'a man sitting on a blue bench.'\n",
        "\n",
        "predict_inference(premise, hypothesis, TEXT, LABEL, model, device)"
      ],
      "execution_count": 41,
      "outputs": [
        {
          "output_type": "execute_result",
          "data": {
            "application/vnd.google.colaboratory.intrinsic+json": {
              "type": "string"
            },
            "text/plain": [
              "'entailment'"
            ]
          },
          "metadata": {
            "tags": []
          },
          "execution_count": 41
        }
      ]
    },
    {
      "cell_type": "code",
      "metadata": {
        "colab": {
          "base_uri": "https://localhost:8080/",
          "height": 35
        },
        "id": "hLc3KqhmDgAK",
        "outputId": "2aec9d75-0eed-4cc2-9761-a4e3aebfed57"
      },
      "source": [
        "premise = 'a man sitting on a green bench.'\n",
        "hypothesis = 'a male sat on a lime bench.'\n",
        "\n",
        "predict_inference(premise, hypothesis, TEXT, LABEL, model, device)"
      ],
      "execution_count": 42,
      "outputs": [
        {
          "output_type": "execute_result",
          "data": {
            "application/vnd.google.colaboratory.intrinsic+json": {
              "type": "string"
            },
            "text/plain": [
              "'entailment'"
            ]
          },
          "metadata": {
            "tags": []
          },
          "execution_count": 42
        }
      ]
    },
    {
      "cell_type": "code",
      "metadata": {
        "colab": {
          "base_uri": "https://localhost:8080/",
          "height": 35
        },
        "id": "1jBvybncDiBM",
        "outputId": "40e99f3f-2ba4-498e-a581-d0b1162db16d"
      },
      "source": [
        "premise = 'a man sitting on a green bench.'\n",
        "hypothesis = 'a person on a park bench'\n",
        "\n",
        "predict_inference(premise, hypothesis, TEXT, LABEL, model, device)"
      ],
      "execution_count": 43,
      "outputs": [
        {
          "output_type": "execute_result",
          "data": {
            "application/vnd.google.colaboratory.intrinsic+json": {
              "type": "string"
            },
            "text/plain": [
              "'neutral'"
            ]
          },
          "metadata": {
            "tags": []
          },
          "execution_count": 43
        }
      ]
    },
    {
      "cell_type": "code",
      "metadata": {
        "id": "okTrkJ9mEwmw"
      },
      "source": [
        ""
      ],
      "execution_count": 36,
      "outputs": []
    }
  ]
}