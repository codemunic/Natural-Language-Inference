{
  "nbformat": 4,
  "nbformat_minor": 0,
  "metadata": {
    "colab": {
      "name": "Simple_NLI",
      "provenance": [],
      "collapsed_sections": []
    },
    "kernelspec": {
      "name": "python3",
      "display_name": "Python 3"
    },
    "language_info": {
      "name": "python"
    },
    "accelerator": "GPU"
  },
  "cells": [
    {
      "cell_type": "code",
      "metadata": {
        "id": "Dchm3hIDMPOi"
      },
      "source": [
        "import torch\n",
        "import torch.nn as nn\n",
        "import torch.nn.functional as F\n",
        "import torch.optim as optim\n",
        "\n",
        "from torchtext.legacy import data\n",
        "from torchtext.legacy import datasets\n",
        "\n",
        "import random\n",
        "import numpy as np\n",
        "\n",
        "import time"
      ],
      "execution_count": 1,
      "outputs": []
    },
    {
      "cell_type": "code",
      "metadata": {
        "id": "m_zqeeQFMxFn"
      },
      "source": [
        "SEED = 1234\n",
        "\n",
        "random.seed(SEED)\n",
        "np.random.seed(SEED)\n",
        "torch.manual_seed(SEED)\n",
        "torch.backends.cudnn.deterministic = True"
      ],
      "execution_count": 2,
      "outputs": []
    },
    {
      "cell_type": "code",
      "metadata": {
        "id": "00IXeOEpNB6I",
        "colab": {
          "base_uri": "https://localhost:8080/"
        },
        "outputId": "64432a3d-2f69-4329-e139-9311c94cd1c1"
      },
      "source": [
        "import nltk\n",
        "nltk.download('punkt')\n",
        "from nltk.tokenize import word_tokenize\n",
        "\n",
        "tokenizer = nltk.RegexpTokenizer(r\"\\w+\").tokenize #It will remove punctuation\n",
        "\n",
        "TEXT = data.Field(tokenize=tokenizer, lower = True)\n",
        "LABEL = data.LabelField()"
      ],
      "execution_count": 3,
      "outputs": [
        {
          "output_type": "stream",
          "text": [
            "[nltk_data] Downloading package punkt to /root/nltk_data...\n",
            "[nltk_data]   Unzipping tokenizers/punkt.zip.\n"
          ],
          "name": "stdout"
        }
      ]
    },
    {
      "cell_type": "code",
      "metadata": {
        "colab": {
          "base_uri": "https://localhost:8080/"
        },
        "id": "izamvP4iNEJp",
        "outputId": "87210e91-8539-4f62-830e-ada9e27e5802"
      },
      "source": [
        "\n",
        "train_data, valid_data, test_data = datasets.SNLI.splits(TEXT, LABEL)"
      ],
      "execution_count": 4,
      "outputs": [
        {
          "output_type": "stream",
          "text": [
            "downloading snli_1.0.zip\n"
          ],
          "name": "stdout"
        },
        {
          "output_type": "stream",
          "text": [
            "snli_1.0.zip: 100%|██████████| 94.6M/94.6M [00:40<00:00, 2.34MB/s]\n"
          ],
          "name": "stderr"
        },
        {
          "output_type": "stream",
          "text": [
            "extracting\n"
          ],
          "name": "stdout"
        }
      ]
    },
    {
      "cell_type": "code",
      "metadata": {
        "colab": {
          "base_uri": "https://localhost:8080/"
        },
        "id": "BOT51_AONIyn",
        "outputId": "733497d3-8479-4205-9765-771894b1483c"
      },
      "source": [
        "print(f\"Number of training examples: {len(train_data)}\")\n",
        "print(f\"Number of validation examples: {len(valid_data)}\")\n",
        "print(f\"Number of testing examples: {len(test_data)}\")"
      ],
      "execution_count": 9,
      "outputs": [
        {
          "output_type": "stream",
          "text": [
            "Number of training examples: 549367\n",
            "Number of validation examples: 9842\n",
            "Number of testing examples: 9824\n"
          ],
          "name": "stdout"
        }
      ]
    },
    {
      "cell_type": "code",
      "metadata": {
        "colab": {
          "base_uri": "https://localhost:8080/"
        },
        "id": "SLjBsfWnNOXr",
        "outputId": "7b6aafe5-936c-4360-95cc-28d8f9f593cf"
      },
      "source": [
        "print(vars(train_data.examples[0]))"
      ],
      "execution_count": 10,
      "outputs": [
        {
          "output_type": "stream",
          "text": [
            "{'premise': ['a', 'person', 'on', 'a', 'horse', 'jumps', 'over', 'a', 'broken', 'down', 'airplane'], 'hypothesis': ['a', 'person', 'is', 'training', 'his', 'horse', 'for', 'a', 'competition'], 'label': 'neutral'}\n"
          ],
          "name": "stdout"
        }
      ]
    },
    {
      "cell_type": "code",
      "metadata": {
        "id": "y1aNPvO-NdWn",
        "colab": {
          "base_uri": "https://localhost:8080/"
        },
        "outputId": "47f45668-7278-4dae-f2f6-17f5b892c8cc"
      },
      "source": [
        "MIN_FREQ = 2\n",
        "\n",
        "TEXT.build_vocab(train_data, \n",
        "                 min_freq = MIN_FREQ,\n",
        "                 vectors = \"glove.6B.300d\",\n",
        "                 unk_init = torch.Tensor.normal_)\n",
        "\n",
        "LABEL.build_vocab(train_data)"
      ],
      "execution_count": 7,
      "outputs": [
        {
          "output_type": "stream",
          "text": [
            ".vector_cache/glove.6B.zip: 862MB [02:43, 5.29MB/s]                           \n",
            "100%|█████████▉| 398980/400000 [00:37<00:00, 11022.83it/s]"
          ],
          "name": "stderr"
        }
      ]
    },
    {
      "cell_type": "code",
      "metadata": {
        "colab": {
          "base_uri": "https://localhost:8080/"
        },
        "id": "dAeVYyN9Ng01",
        "outputId": "e7802ec7-d3a4-47fb-b9bc-2c6e4a8bef4c"
      },
      "source": [
        "print(f\"Unique tokens in TEXT vocabulary: {len(TEXT.vocab)}\")"
      ],
      "execution_count": 8,
      "outputs": [
        {
          "output_type": "stream",
          "text": [
            "Unique tokens in TEXT vocabulary: 23352\n"
          ],
          "name": "stdout"
        }
      ]
    },
    {
      "cell_type": "code",
      "metadata": {
        "colab": {
          "base_uri": "https://localhost:8080/"
        },
        "id": "upc-OQhUNiv2",
        "outputId": "531beb9c-565c-4355-9d25-7063684a712b"
      },
      "source": [
        "print(TEXT.vocab.freqs.most_common(20))"
      ],
      "execution_count": 11,
      "outputs": [
        {
          "output_type": "stream",
          "text": [
            "[('a', 1439104), ('the', 534701), ('in', 407300), ('is', 373355), ('man', 266237), ('on', 235910), ('and', 206376), ('are', 199024), ('of', 192432), ('with', 169236), ('woman', 137630), ('two', 122259), ('people', 121159), ('to', 113972), ('at', 98662), ('wearing', 81024), ('an', 80212), ('his', 72467), ('shirt', 62744), ('young', 61515)]\n"
          ],
          "name": "stdout"
        }
      ]
    },
    {
      "cell_type": "code",
      "metadata": {
        "colab": {
          "base_uri": "https://localhost:8080/"
        },
        "id": "AlYSrNOWNkf1",
        "outputId": "c921fe87-7dd4-417e-8c92-1744ab68779f"
      },
      "source": [
        "print(TEXT.vocab.itos[:10])"
      ],
      "execution_count": 12,
      "outputs": [
        {
          "output_type": "stream",
          "text": [
            "['<unk>', '<pad>', 'a', 'the', 'in', 'is', 'man', 'on', 'and', 'are']\n"
          ],
          "name": "stdout"
        }
      ]
    },
    {
      "cell_type": "code",
      "metadata": {
        "colab": {
          "base_uri": "https://localhost:8080/"
        },
        "id": "b94dB14HNmKE",
        "outputId": "ffa2faf0-bc34-4b53-d44d-10f0b1886346"
      },
      "source": [
        "print(LABEL.vocab.itos)"
      ],
      "execution_count": 13,
      "outputs": [
        {
          "output_type": "stream",
          "text": [
            "['entailment', 'contradiction', 'neutral']\n"
          ],
          "name": "stdout"
        }
      ]
    },
    {
      "cell_type": "code",
      "metadata": {
        "colab": {
          "base_uri": "https://localhost:8080/"
        },
        "id": "zYRdTuhDNn9-",
        "outputId": "d4458088-900d-4cbe-9cb2-fe854da29884"
      },
      "source": [
        "print(LABEL.vocab.freqs.most_common())"
      ],
      "execution_count": 14,
      "outputs": [
        {
          "output_type": "stream",
          "text": [
            "[('entailment', 183416), ('contradiction', 183187), ('neutral', 182764)]\n"
          ],
          "name": "stdout"
        }
      ]
    },
    {
      "cell_type": "code",
      "metadata": {
        "id": "GNS9ouzkNpnX"
      },
      "source": [
        "BATCH_SIZE = 256\n",
        "\n",
        "device = torch.device('cuda' if torch.cuda.is_available() else 'cpu')\n",
        "\n",
        "train_iterator, valid_iterator, test_iterator = data.BucketIterator.splits(\n",
        "    (train_data, valid_data, test_data), \n",
        "    batch_size = BATCH_SIZE,\n",
        "    device = device)"
      ],
      "execution_count": 15,
      "outputs": []
    },
    {
      "cell_type": "code",
      "metadata": {
        "id": "CE0kf-x2NsuB"
      },
      "source": [
        "\n",
        "class Model(nn.Module):\n",
        "    def __init__(self, \n",
        "                 input_dim, \n",
        "                 embedding_dim,\n",
        "                 hidden_dim,\n",
        "                 n_fc_layers,\n",
        "                 output_dim, \n",
        "                 dropout, \n",
        "                 pad_idx):\n",
        "        \n",
        "        super().__init__()\n",
        "                                \n",
        "        self.embedding = nn.Embedding(input_dim, embedding_dim, padding_idx = pad_idx)\n",
        "        \n",
        "        fc_dim = hidden_dim * 2\n",
        "        \n",
        "        fcs = [nn.Linear(fc_dim, fc_dim) for _ in range(n_fc_layers)]\n",
        "        \n",
        "        self.fcs = nn.ModuleList(fcs)\n",
        "        \n",
        "        self.fc_out = nn.Linear(fc_dim, output_dim)\n",
        "        \n",
        "        self.dropout = nn.Dropout(dropout)\n",
        "        \n",
        "    def forward(self, prem, hypo):\n",
        "\n",
        "        prem_seq_len, batch_size = prem.shape\n",
        "        hypo_seq_len, _ = hypo.shape\n",
        "\n",
        "        #print('prem_seq_len: ', prem.size())\n",
        "        \n",
        "        #prem = [prem sent len, batch size]\n",
        "        #hypo = [hypo sent len, batch size]\n",
        "        \n",
        "        embedded_prem = self.embedding(prem)\n",
        "        embedded_hypo = self.embedding(hypo)\n",
        "\n",
        "        #print('embedded_prem: ', embedded_prem.size())\n",
        "        \n",
        "        #embedded_prem = [prem sent len, batch size, embedding dim]\n",
        "        #embedded_hypo = [hypo sent len, batch size, embedding dim]\n",
        "\n",
        "        sum_prem = torch.sum(embedded_prem, dim=0)\n",
        "        sum_hypo = torch.sum(embedded_hypo, dim=0)\n",
        "\n",
        "        #print(sum_prem.size())\n",
        "\n",
        "        #sum_prem = [batch_size, embedding_dim]\n",
        "        #sum_hypo = [batch_size, embedding_dim]\n",
        "\n",
        "        hidden = torch.cat((sum_prem, sum_hypo), dim=1)\n",
        "\n",
        "        #hidden = [batch size, fc dim]\n",
        "            \n",
        "        for fc in self.fcs:\n",
        "            hidden = fc(hidden)\n",
        "            hidden = F.relu(hidden)\n",
        "            hidden = self.dropout(hidden)\n",
        "        \n",
        "        prediction = self.fc_out(hidden)\n",
        "        \n",
        "        #prediction = [batch size, output dim]\n",
        "        \n",
        "        return prediction\n",
        "\n"
      ],
      "execution_count": 88,
      "outputs": []
    },
    {
      "cell_type": "code",
      "metadata": {
        "id": "hnUzHkHtNvsu"
      },
      "source": [
        "\n",
        "INPUT_DIM = len(TEXT.vocab)\n",
        "EMBEDDING_DIM = 300\n",
        "HIDDEN_DIM = 300\n",
        "N_FC_LAYERS = 3\n",
        "OUTPUT_DIM = len(LABEL.vocab)\n",
        "DROPOUT = 0.25\n",
        "PAD_IDX = TEXT.vocab.stoi[TEXT.pad_token]\n",
        "\n",
        "model = Model(INPUT_DIM,\n",
        "                  EMBEDDING_DIM,\n",
        "                  HIDDEN_DIM,\n",
        "                  N_FC_LAYERS,\n",
        "                  OUTPUT_DIM,\n",
        "                  DROPOUT,\n",
        "                  PAD_IDX).to(device)\n"
      ],
      "execution_count": 89,
      "outputs": []
    },
    {
      "cell_type": "code",
      "metadata": {
        "colab": {
          "base_uri": "https://localhost:8080/"
        },
        "id": "ZxW0SGC9Nx1I",
        "outputId": "72b0f144-cdcc-4394-8299-bde3e1a97236"
      },
      "source": [
        "def count_parameters(model):\n",
        "    return sum(p.numel() for p in model.parameters() if p.requires_grad)\n",
        "\n",
        "print(f'The model has {count_parameters(model):,} trainable parameters')"
      ],
      "execution_count": 90,
      "outputs": [
        {
          "output_type": "stream",
          "text": [
            "The model has 8,089,203 trainable parameters\n"
          ],
          "name": "stdout"
        }
      ]
    },
    {
      "cell_type": "code",
      "metadata": {
        "id": "9AD96JO5Nz0s",
        "colab": {
          "base_uri": "https://localhost:8080/"
        },
        "outputId": "6b143108-c771-48ac-cad6-353e6f62b952"
      },
      "source": [
        "pretrained_embeddings = TEXT.vocab.vectors\n",
        "\n",
        "print(pretrained_embeddings.shape)"
      ],
      "execution_count": 91,
      "outputs": [
        {
          "output_type": "stream",
          "text": [
            "torch.Size([23352, 300])\n"
          ],
          "name": "stdout"
        }
      ]
    },
    {
      "cell_type": "code",
      "metadata": {
        "id": "7isY_7czN3of",
        "colab": {
          "base_uri": "https://localhost:8080/"
        },
        "outputId": "0d85ee68-2232-46a7-c7c4-731505056534"
      },
      "source": [
        "model.embedding.weight.data.copy_(pretrained_embeddings)"
      ],
      "execution_count": 92,
      "outputs": [
        {
          "output_type": "execute_result",
          "data": {
            "text/plain": [
              "tensor([[-0.1117, -0.4966,  0.1631,  ..., -1.4447,  0.8402, -0.8668],\n",
              "        [ 0.1032, -1.6268,  0.5729,  ...,  0.3180, -0.1626, -0.0417],\n",
              "        [-0.2971,  0.0940, -0.0967,  ...,  0.0597, -0.2285,  0.2960],\n",
              "        ...,\n",
              "        [-0.2149,  0.0846, -0.2949,  ...,  0.2379,  0.4804, -0.3348],\n",
              "        [-0.0626, -0.3148, -0.9665,  ...,  1.3171, -0.8476, -0.4057],\n",
              "        [ 0.3580, -0.0304,  0.3355,  ...,  0.0703, -0.5158,  0.1819]],\n",
              "       device='cuda:0')"
            ]
          },
          "metadata": {
            "tags": []
          },
          "execution_count": 92
        }
      ]
    },
    {
      "cell_type": "code",
      "metadata": {
        "id": "Fp0m2cf8OAuf",
        "colab": {
          "base_uri": "https://localhost:8080/"
        },
        "outputId": "f9d33a6a-e669-45dc-bad6-a76fac962bf4"
      },
      "source": [
        "\n",
        "model.embedding.weight.data[PAD_IDX] = torch.zeros(EMBEDDING_DIM)\n",
        "\n",
        "print(model.embedding.weight.data)"
      ],
      "execution_count": 93,
      "outputs": [
        {
          "output_type": "stream",
          "text": [
            "tensor([[-0.1117, -0.4966,  0.1631,  ..., -1.4447,  0.8402, -0.8668],\n",
            "        [ 0.0000,  0.0000,  0.0000,  ...,  0.0000,  0.0000,  0.0000],\n",
            "        [-0.2971,  0.0940, -0.0967,  ...,  0.0597, -0.2285,  0.2960],\n",
            "        ...,\n",
            "        [-0.2149,  0.0846, -0.2949,  ...,  0.2379,  0.4804, -0.3348],\n",
            "        [-0.0626, -0.3148, -0.9665,  ...,  1.3171, -0.8476, -0.4057],\n",
            "        [ 0.3580, -0.0304,  0.3355,  ...,  0.0703, -0.5158,  0.1819]],\n",
            "       device='cuda:0')\n"
          ],
          "name": "stdout"
        }
      ]
    },
    {
      "cell_type": "code",
      "metadata": {
        "id": "kHe_NfxhOD7n"
      },
      "source": [
        "model.embedding.weight.requires_grad = False"
      ],
      "execution_count": 94,
      "outputs": []
    },
    {
      "cell_type": "code",
      "metadata": {
        "colab": {
          "base_uri": "https://localhost:8080/"
        },
        "id": "toYgblMyOFuq",
        "outputId": "052164db-6b2b-444e-d87b-dc68d704c1ef"
      },
      "source": [
        "def count_parameters(model):\n",
        "    return sum(p.numel() for p in model.parameters() if p.requires_grad)\n",
        "\n",
        "print(f'The model has {count_parameters(model):,} trainable parameters')"
      ],
      "execution_count": 95,
      "outputs": [
        {
          "output_type": "stream",
          "text": [
            "The model has 1,083,603 trainable parameters\n"
          ],
          "name": "stdout"
        }
      ]
    },
    {
      "cell_type": "code",
      "metadata": {
        "id": "oHSeBZSjOIlA"
      },
      "source": [
        "model = model.to(device)"
      ],
      "execution_count": 96,
      "outputs": []
    },
    {
      "cell_type": "code",
      "metadata": {
        "id": "kd1Kd8wgOLCc"
      },
      "source": [
        "optimizer = optim.Adam(model.parameters())"
      ],
      "execution_count": 97,
      "outputs": []
    },
    {
      "cell_type": "code",
      "metadata": {
        "id": "Ub7CCKcoONvd"
      },
      "source": [
        "\n",
        "criterion = nn.CrossEntropyLoss().to(device)"
      ],
      "execution_count": 98,
      "outputs": []
    },
    {
      "cell_type": "code",
      "metadata": {
        "id": "mjaEUh3xOQLx"
      },
      "source": [
        "\n",
        "def categorical_accuracy(preds, y):\n",
        "    \"\"\"\n",
        "    Returns accuracy per batch, i.e. if you get 8/10 right, this returns 0.8, NOT 8\n",
        "    \"\"\"\n",
        "\n",
        "    max_preds = preds.argmax(dim = 1, keepdim = True) # get the index of the max probability\n",
        "\n",
        "    correct = (max_preds.squeeze(1)==(y)).float()\n",
        "\n",
        "    return (correct.sum() / len(y)).to(device)"
      ],
      "execution_count": 99,
      "outputs": []
    },
    {
      "cell_type": "code",
      "metadata": {
        "id": "aJ9290oiOSIB"
      },
      "source": [
        "def train(model, iterator, optimizer, criterion):\n",
        "    \n",
        "    epoch_loss = 0\n",
        "    epoch_acc = 0\n",
        "    \n",
        "    model.train()\n",
        "    \n",
        "    for batch in iterator:\n",
        "        \n",
        "        prem = batch.premise.to(device)\n",
        "        hypo = batch.hypothesis.to(device)\n",
        "        labels = batch.label.to(device)\n",
        "        \n",
        "        optimizer.zero_grad()\n",
        "        \n",
        "        #prem = [prem sent len, batch size]\n",
        "        #hypo = [hypo sent len, batch size]\n",
        "        \n",
        "        predictions = model(prem, hypo)\n",
        "        \n",
        "        #predictions = [batch size, output dim]\n",
        "        #labels = [batch size]\n",
        "        \n",
        "        loss = criterion(predictions, labels)\n",
        "                \n",
        "        acc = categorical_accuracy(predictions, labels)\n",
        "        \n",
        "        loss.backward()\n",
        "        \n",
        "        optimizer.step()\n",
        "        \n",
        "        epoch_loss += loss.item()\n",
        "        epoch_acc += acc.item()\n",
        "        \n",
        "    return epoch_loss / len(iterator), epoch_acc / len(iterator)"
      ],
      "execution_count": 100,
      "outputs": []
    },
    {
      "cell_type": "code",
      "metadata": {
        "id": "2FT1yg8_OUXR"
      },
      "source": [
        "def evaluate(model, iterator, criterion):\n",
        "    \n",
        "    epoch_loss = 0\n",
        "    epoch_acc = 0\n",
        "    \n",
        "    model.eval()\n",
        "    \n",
        "    with torch.no_grad():\n",
        "    \n",
        "        for batch in iterator:\n",
        "\n",
        "            prem = batch.premise\n",
        "            hypo = batch.hypothesis\n",
        "            labels = batch.label\n",
        "                        \n",
        "            predictions = model(prem, hypo)\n",
        "            \n",
        "            loss = criterion(predictions, labels)\n",
        "                \n",
        "            acc = categorical_accuracy(predictions, labels)\n",
        "            \n",
        "            epoch_loss += loss.item()\n",
        "            epoch_acc += acc.item()\n",
        "        \n",
        "    return epoch_loss / len(iterator), epoch_acc / len(iterator)"
      ],
      "execution_count": 101,
      "outputs": []
    },
    {
      "cell_type": "code",
      "metadata": {
        "id": "TdyXxXcVOWYF"
      },
      "source": [
        "def epoch_time(start_time, end_time):\n",
        "    elapsed_time = end_time - start_time\n",
        "    elapsed_mins = int(elapsed_time / 60)\n",
        "    elapsed_secs = int(elapsed_time - (elapsed_mins * 60))\n",
        "    return elapsed_mins, elapsed_secs"
      ],
      "execution_count": 102,
      "outputs": []
    },
    {
      "cell_type": "code",
      "metadata": {
        "colab": {
          "base_uri": "https://localhost:8080/"
        },
        "id": "iQyy4SRoOYko",
        "outputId": "a1c86886-06ec-440e-aa06-a7202831751b"
      },
      "source": [
        "N_EPOCHS = 10\n",
        "\n",
        "best_valid_loss = float('inf')\n",
        "\n",
        "for epoch in range(N_EPOCHS):\n",
        "\n",
        "    start_time = time.time()\n",
        "    \n",
        "    train_loss, train_acc = train(model, train_iterator, optimizer, criterion)\n",
        "    valid_loss, valid_acc = evaluate(model, valid_iterator, criterion)\n",
        "    \n",
        "    end_time = time.time()\n",
        "\n",
        "    epoch_mins, epoch_secs = epoch_time(start_time, end_time)\n",
        "    \n",
        "    if valid_loss < best_valid_loss:\n",
        "        best_valid_loss = valid_loss\n",
        "        torch.save(model.state_dict(), 'model.pt')\n",
        "    \n",
        "    print(f'Epoch: {epoch+1:02} | Epoch Time: {epoch_mins}m {epoch_secs}s')\n",
        "    print(f'\\tTrain Loss: {train_loss:.3f} | Train Acc: {train_acc*100:.2f}%')\n",
        "    print(f'\\t Val. Loss: {valid_loss:.3f} |  Val. Acc: {valid_acc*100:.2f}%')"
      ],
      "execution_count": 105,
      "outputs": [
        {
          "output_type": "stream",
          "text": [
            "Epoch: 01 | Epoch Time: 0m 14s\n",
            "\tTrain Loss: 0.642 | Train Acc: 73.34%\n",
            "\t Val. Loss: 0.628 |  Val. Acc: 74.15%\n",
            "Epoch: 02 | Epoch Time: 0m 14s\n",
            "\tTrain Loss: 0.637 | Train Acc: 73.57%\n",
            "\t Val. Loss: 0.625 |  Val. Acc: 74.35%\n",
            "Epoch: 03 | Epoch Time: 0m 14s\n",
            "\tTrain Loss: 0.636 | Train Acc: 73.71%\n",
            "\t Val. Loss: 0.625 |  Val. Acc: 74.49%\n",
            "Epoch: 04 | Epoch Time: 0m 14s\n",
            "\tTrain Loss: 0.634 | Train Acc: 73.76%\n",
            "\t Val. Loss: 0.617 |  Val. Acc: 75.07%\n",
            "Epoch: 05 | Epoch Time: 0m 14s\n",
            "\tTrain Loss: 0.631 | Train Acc: 73.93%\n",
            "\t Val. Loss: 0.614 |  Val. Acc: 75.17%\n",
            "Epoch: 06 | Epoch Time: 0m 14s\n",
            "\tTrain Loss: 0.628 | Train Acc: 73.99%\n",
            "\t Val. Loss: 0.612 |  Val. Acc: 75.33%\n",
            "Epoch: 07 | Epoch Time: 0m 14s\n",
            "\tTrain Loss: 0.626 | Train Acc: 74.14%\n",
            "\t Val. Loss: 0.621 |  Val. Acc: 75.07%\n",
            "Epoch: 08 | Epoch Time: 0m 14s\n",
            "\tTrain Loss: 0.625 | Train Acc: 74.16%\n",
            "\t Val. Loss: 0.610 |  Val. Acc: 75.06%\n",
            "Epoch: 09 | Epoch Time: 0m 14s\n",
            "\tTrain Loss: 0.622 | Train Acc: 74.39%\n",
            "\t Val. Loss: 0.613 |  Val. Acc: 75.22%\n",
            "Epoch: 10 | Epoch Time: 0m 14s\n",
            "\tTrain Loss: 0.620 | Train Acc: 74.43%\n",
            "\t Val. Loss: 0.621 |  Val. Acc: 75.03%\n"
          ],
          "name": "stdout"
        }
      ]
    },
    {
      "cell_type": "code",
      "metadata": {
        "id": "yUO-NwG_P1Zk",
        "colab": {
          "base_uri": "https://localhost:8080/"
        },
        "outputId": "34b08da1-9d7a-4558-bee6-0daca79954a5"
      },
      "source": [
        "model.load_state_dict(torch.load('model.pt'))\n",
        "\n",
        "test_loss, test_acc = evaluate(model, test_iterator, criterion)\n",
        "\n",
        "print(f'Test Loss: {test_loss:.3f} |  Test Acc: {test_acc*100:.2f}%')"
      ],
      "execution_count": 106,
      "outputs": [
        {
          "output_type": "stream",
          "text": [
            "Test Loss: 0.615 |  Test Acc: 75.51%\n"
          ],
          "name": "stdout"
        }
      ]
    },
    {
      "cell_type": "code",
      "metadata": {
        "id": "XuJoRSGC_gai"
      },
      "source": [
        "def predict_inference(premise, hypothesis, text_field, label_field, model, device):\n",
        "    \n",
        "    model.eval()\n",
        "    \n",
        "    if isinstance(premise, str):\n",
        "        premise = text_field.tokenize(premise)\n",
        "    \n",
        "    if isinstance(hypothesis, str):\n",
        "        hypothesis = text_field.tokenize(hypothesis)\n",
        "    \n",
        "    if text_field.lower:\n",
        "        premise = [t.lower() for t in premise]\n",
        "        hypothesis = [t.lower() for t in hypothesis]\n",
        "        \n",
        "    premise = [text_field.vocab.stoi[t] for t in premise]\n",
        "    hypothesis = [text_field.vocab.stoi[t] for t in hypothesis]\n",
        "    \n",
        "    premise = torch.LongTensor(premise).unsqueeze(1).to(device)\n",
        "    hypothesis = torch.LongTensor(hypothesis).unsqueeze(1).to(device)\n",
        "    \n",
        "    prediction = model(premise, hypothesis)\n",
        "    \n",
        "    prediction = prediction.argmax(dim=-1).item()\n",
        "    \n",
        "    return label_field.vocab.itos[prediction]"
      ],
      "execution_count": 107,
      "outputs": []
    },
    {
      "cell_type": "code",
      "metadata": {
        "colab": {
          "base_uri": "https://localhost:8080/",
          "height": 35
        },
        "id": "T8RFmFFC_i30",
        "outputId": "ff07f376-4fbd-40d6-a886-fcaa72da14d0"
      },
      "source": [
        "premise = 'a man sitting on a green bench.'\n",
        "hypothesis = 'a woman sitting on a green bench.'\n",
        "\n",
        "predict_inference(premise, hypothesis, TEXT, LABEL, model, device)"
      ],
      "execution_count": 108,
      "outputs": [
        {
          "output_type": "execute_result",
          "data": {
            "application/vnd.google.colaboratory.intrinsic+json": {
              "type": "string"
            },
            "text/plain": [
              "'contradiction'"
            ]
          },
          "metadata": {
            "tags": []
          },
          "execution_count": 108
        }
      ]
    },
    {
      "cell_type": "code",
      "metadata": {
        "colab": {
          "base_uri": "https://localhost:8080/",
          "height": 35
        },
        "id": "LCexykbC_lRu",
        "outputId": "8b129984-0938-4f32-e044-291335289215"
      },
      "source": [
        "premise = 'a man sitting on a green bench.'\n",
        "hypothesis = 'a man sitting on a blue bench.'\n",
        "\n",
        "predict_inference(premise, hypothesis, TEXT, LABEL, model, device)"
      ],
      "execution_count": 109,
      "outputs": [
        {
          "output_type": "execute_result",
          "data": {
            "application/vnd.google.colaboratory.intrinsic+json": {
              "type": "string"
            },
            "text/plain": [
              "'contradiction'"
            ]
          },
          "metadata": {
            "tags": []
          },
          "execution_count": 109
        }
      ]
    },
    {
      "cell_type": "code",
      "metadata": {
        "colab": {
          "base_uri": "https://localhost:8080/",
          "height": 35
        },
        "id": "6WEx82bu_nX2",
        "outputId": "f3784084-43ce-4910-b364-343f46c7341a"
      },
      "source": [
        "premise = 'a man sitting on a green bench.'\n",
        "hypothesis = 'a male sat on a lime bench.'\n",
        "\n",
        "predict_inference(premise, hypothesis, TEXT, LABEL, model, device)"
      ],
      "execution_count": 110,
      "outputs": [
        {
          "output_type": "execute_result",
          "data": {
            "application/vnd.google.colaboratory.intrinsic+json": {
              "type": "string"
            },
            "text/plain": [
              "'neutral'"
            ]
          },
          "metadata": {
            "tags": []
          },
          "execution_count": 110
        }
      ]
    },
    {
      "cell_type": "code",
      "metadata": {
        "colab": {
          "base_uri": "https://localhost:8080/",
          "height": 35
        },
        "id": "S7mRGjAJ_p6o",
        "outputId": "1d8ff41c-96ae-43e9-ceba-7a183ed0630e"
      },
      "source": [
        "premise = 'a man sitting on a green bench.'\n",
        "hypothesis = 'a person on a park bench'\n",
        "\n",
        "predict_inference(premise, hypothesis, TEXT, LABEL, model, device)"
      ],
      "execution_count": 111,
      "outputs": [
        {
          "output_type": "execute_result",
          "data": {
            "application/vnd.google.colaboratory.intrinsic+json": {
              "type": "string"
            },
            "text/plain": [
              "'neutral'"
            ]
          },
          "metadata": {
            "tags": []
          },
          "execution_count": 111
        }
      ]
    },
    {
      "cell_type": "code",
      "metadata": {
        "id": "QIUdUrMUHNDw"
      },
      "source": [
        ""
      ],
      "execution_count": null,
      "outputs": []
    }
  ]
}